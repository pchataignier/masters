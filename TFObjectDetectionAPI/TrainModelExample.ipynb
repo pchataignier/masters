{
 "cells": [
  {
   "cell_type": "code",
   "execution_count": null,
   "metadata": {},
   "outputs": [],
   "source": [
    "%load_ext tensorboard\n",
    "\n",
    "import os\n",
    "import tensorflow as tf\n",
    "from datetime import datetime\n",
    "from object_detection import model_lib\n",
    "from object_detection import model_hparams\n",
    "from object_detection.protos import pipeline_pb2"
   ]
  },
  {
   "cell_type": "code",
   "execution_count": null,
   "metadata": {},
   "outputs": [],
   "source": [
    "def tensorflow_shutup(verbose=False):\n",
    "    \"\"\"\n",
    "    Make Tensorflow less verbose\n",
    "    \"\"\"\n",
    "    try:\n",
    "        # noinspection PyPackageRequirements\n",
    "        if not verbose:\n",
    "            #import os\n",
    "            from tensorflow.compat.v1 import logging\n",
    "            logging.set_verbosity(logging.ERROR)\n",
    "            os.environ['TF_CPP_MIN_LOG_LEVEL'] = '2'\n",
    "\n",
    "        # Monkey patching deprecation utils to shut it up! Maybe good idea to disable this once after upgrade\n",
    "        # noinspection PyUnusedLocal\n",
    "        def deprecated(date, instructions, warn_once=True):\n",
    "            def deprecated_wrapper(func):\n",
    "                return func\n",
    "            return deprecated_wrapper\n",
    "\n",
    "        from tensorflow.python.util import deprecation\n",
    "        deprecation.deprecated = deprecated\n",
    "\n",
    "    except ImportError:\n",
    "        pass\n",
    "\n",
    "def find_latest_checkpoint(log_dir, modelId):\n",
    "    from glob import glob\n",
    "\n",
    "    log_dir = os.path.normpath(log_dir)\n",
    "    runs = glob(f\"{log_dir}/{modelId}*\")\n",
    "\n",
    "    if not runs:\n",
    "        return None\n",
    "\n",
    "    runs.sort()\n",
    "    latest_run = runs[-1]\n",
    "\n",
    "    checkpoint = tf.train.get_checkpoint_state(latest_run)\n",
    "    return checkpoint.model_checkpoint_path if checkpoint else None"
   ]
  },
  {
   "cell_type": "code",
   "execution_count": null,
   "metadata": {},
   "outputs": [],
   "source": [
    "MODEL = \"mobilenet-oid\"\n",
    "\n",
    "OUT_DIR = f\"{MODEL}\"\n",
    "PIPELINE_CONFIG = f\"{MODEL}/pipeline.config\"\n",
    "NUM_TRAIN_STEPS = 10000\n",
    "CHECKPOINT_STEPS = 1000\n",
    "MAX_CHECKPOINTS = None"
   ]
  },
  {
   "cell_type": "code",
   "execution_count": null,
   "metadata": {},
   "outputs": [],
   "source": [
    "tensorflow_shutup(True)"
   ]
  },
  {
   "cell_type": "code",
   "execution_count": null,
   "metadata": {},
   "outputs": [],
   "source": [
    "timestamp = datetime.now().strftime(\"-%Y%m%d-%H%M%S-%f\")\n",
    "modelId = os.path.basename(os.path.normpath(OUT_DIR))\n",
    "out_dir = OUT_DIR + timestamp\n",
    "log_dir = OUT_DIR"
   ]
  },
  {
   "cell_type": "code",
   "execution_count": null,
   "metadata": {},
   "outputs": [],
   "source": [
    "config_proto = tf.ConfigProto()\n",
    "config_proto.gpu_options.allow_growth = True\n",
    "config = tf.estimator.RunConfig(model_dir=out_dir, session_config=config_proto, log_step_count_steps=1,\n",
    "                                save_checkpoints_steps=CHECKPOINT_STEPS, keep_checkpoint_max=MAX_CHECKPOINTS)"
   ]
  },
  {
   "cell_type": "code",
   "execution_count": null,
   "metadata": {},
   "outputs": [],
   "source": [
    "pipeline_overrides = None\n",
    "latest_checkpoint = find_latest_checkpoint(log_dir, modelId)\n",
    "if latest_checkpoint:\n",
    "    pipeline_overrides = pipeline_pb2.TrainEvalPipelineConfig()\n",
    "    pipeline_overrides.train_config.fine_tune_checkpoint = latest_checkpoint"
   ]
  },
  {
   "cell_type": "code",
   "execution_count": null,
   "metadata": {},
   "outputs": [],
   "source": [
    "train_and_eval_dict = model_lib.create_estimator_and_inputs(\n",
    "    run_config=config,\n",
    "    pipeline_config_path=PIPELINE_CONFIG,\n",
    "    config_override=pipeline_overrides,\n",
    "    train_steps=NUM_TRAIN_STEPS,\n",
    "    sample_1_of_n_eval_examples=1,\n",
    "    hparams=model_hparams.create_hparams(None),\n",
    "    save_final_config=True)\n",
    "\n",
    "estimator = train_and_eval_dict['estimator']\n",
    "train_input_fn = train_and_eval_dict['train_input_fn']\n",
    "eval_input_fns = train_and_eval_dict['eval_input_fns']\n",
    "eval_on_train_input_fn = train_and_eval_dict['eval_on_train_input_fn']\n",
    "predict_input_fn = train_and_eval_dict['predict_input_fn']\n",
    "train_steps = train_and_eval_dict['train_steps']\n",
    "\n",
    "train_spec, eval_specs = model_lib.create_train_and_eval_specs(\n",
    "        train_input_fn,\n",
    "        eval_input_fns,\n",
    "        eval_on_train_input_fn,\n",
    "        predict_input_fn,\n",
    "        train_steps,\n",
    "        eval_on_train_data=False)"
   ]
  },
  {
   "cell_type": "code",
   "execution_count": null,
   "metadata": {},
   "outputs": [],
   "source": [
    "%tensorboard --logdir \"$log_dir\""
   ]
  },
  {
   "cell_type": "code",
   "execution_count": null,
   "metadata": {},
   "outputs": [],
   "source": [
    "tf.estimator.train_and_evaluate(estimator, train_spec, eval_specs[0])"
   ]
  }
 ],
 "metadata": {
  "kernelspec": {
   "display_name": "Python [conda env:masters-cpu]",
   "language": "python",
   "name": "conda-env-masters-cpu-py"
  },
  "language_info": {
   "codemirror_mode": {
    "name": "ipython",
    "version": 3
   },
   "file_extension": ".py",
   "mimetype": "text/x-python",
   "name": "python",
   "nbconvert_exporter": "python",
   "pygments_lexer": "ipython3",
   "version": "3.6.10"
  }
 },
 "nbformat": 4,
 "nbformat_minor": 2
}
