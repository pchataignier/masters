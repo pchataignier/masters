{
 "cells": [
  {
   "cell_type": "code",
   "execution_count": null,
   "metadata": {},
   "outputs": [],
   "source": [
    "%matplotlib inline\n",
    "\n",
    "import os\n",
    "import cv2\n",
    "import math\n",
    "import imutils\n",
    "import contextlib2\n",
    "import pandas as pd\n",
    "import tensorflow as tf\n",
    "\n",
    "from matplotlib import pyplot as plt\n",
    "from concurrent.futures import ThreadPoolExecutor\n",
    "\n",
    "pd.set_option(\"display.max_colwidth\", 10000)"
   ]
  },
  {
   "cell_type": "code",
   "execution_count": null,
   "metadata": {},
   "outputs": [],
   "source": [
    "ROOT_OUT = \"\"\n",
    "SPLIT = \"validation\" # [\"train\", \"test\", \"validation\"]\n",
    "FILTERED_URL_CSV = f\"{SPLIT}/{SPLIT}-filtered-img-url-v2.csv\"\n",
    "OUTDIR = os.path.join(ROOT_OUT, SPLIT)"
   ]
  },
  {
   "cell_type": "code",
   "execution_count": null,
   "metadata": {},
   "outputs": [],
   "source": [
    "urls = pd.read_csv(FILTERED_URL_CSV)"
   ]
  },
  {
   "cell_type": "code",
   "execution_count": null,
   "metadata": {},
   "outputs": [],
   "source": [
    "def download_and_resize(url, file_id, output_dir=\"\"):\n",
    "    try:\n",
    "        img = imutils.url_to_image(url)\n",
    "        img = imutils.resize(img, width=640, height=480)\n",
    "        height, width, channels = img.shape\n",
    "\n",
    "        if output_dir and not os.path.exists(output_dir):\n",
    "            os.mkdir(output_dir)\n",
    "\n",
    "        file_path = os.path.join(output_dir, f\"{file_id}.jpg\")\n",
    "        cv2.imwrite(file_path, img)\n",
    "                \n",
    "        return file_id, file_path, None, width, height, channels\n",
    "    except Exception as ex:\n",
    "        return file_id, None, ex, -1, -1, -1"
   ]
  },
  {
   "cell_type": "code",
   "execution_count": null,
   "metadata": {
    "scrolled": true
   },
   "outputs": [],
   "source": [
    "channel_problems=[]\n",
    "with ThreadPoolExecutor() as executor:\n",
    "    results = executor.map(lambda x: download_and_resize(x[1].image_url, x[1].ImageID, output_dir=OUTDIR), urls.head(100).iterrows())\n",
    "\n",
    "    for fileId, filePath, ex, width, height, channels in results:\n",
    "        if ex:\n",
    "            print(f\"Download of image {fileId} failed with error '{ex}'\")\n",
    "        else:\n",
    "            print(f\"Image {fileId} with shape ({width}, {height}, {channels}) downloaded to '{filePath}'\")\n",
    "            if channels != 3:\n",
    "                channel_problems.append(fileId)\n",
    "                print(f\"======================== Imagem {fileId} com canais diferentes de 3! ========================\")"
   ]
  },
  {
   "cell_type": "code",
   "execution_count": null,
   "metadata": {},
   "outputs": [],
   "source": [
    "len(channel_problems)"
   ]
  }
 ],
 "metadata": {
  "kernelspec": {
   "display_name": "Python [conda env:masters-cpu]",
   "language": "python",
   "name": "conda-env-masters-cpu-py"
  },
  "language_info": {
   "codemirror_mode": {
    "name": "ipython",
    "version": 3
   },
   "file_extension": ".py",
   "mimetype": "text/x-python",
   "name": "python",
   "nbconvert_exporter": "python",
   "pygments_lexer": "ipython3",
   "version": "3.6.10"
  }
 },
 "nbformat": 4,
 "nbformat_minor": 2
}
