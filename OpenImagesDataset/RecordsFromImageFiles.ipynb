{
 "cells": [
  {
   "cell_type": "code",
   "execution_count": null,
   "metadata": {},
   "outputs": [],
   "source": [
    "import os\n",
    "import cv2\n",
    "import math\n",
    "import imutils\n",
    "import contextlib2\n",
    "import pandas as pd\n",
    "import tensorflow as tf\n",
    "\n",
    "from glob import glob\n",
    "from object_detection.core.standard_fields import TfExampleFields\n",
    "from object_detection.dataset_tools import tf_record_creation_util\n",
    "from object_detection.utils import dataset_util, label_map_util\n",
    "\n",
    "pd.set_option(\"display.max_colwidth\", 10000)"
   ]
  },
  {
   "cell_type": "code",
   "execution_count": null,
   "metadata": {},
   "outputs": [],
   "source": [
    "ROOT_OUT = \"\"\n",
    "IMAGES_FOLDER = \"\"\n",
    "\n",
    "SPLIT = \"validation\" # [\"train\", \"validation\"]\n",
    "NUM_SHARDS = 10\n",
    "\n",
    "LABELS_CSV = \"filteredLabels.csv\"\n",
    "LABEL_MAP_PATH = os.path.join(ROOT_OUT, \"labelMap.pbtxt\") #\"labelMap.pbtxt\"\n",
    "\n",
    "RECORDS_FILEPATH = os.path.join(ROOT_OUT, SPLIT, f\"{SPLIT}.tfrecord\")\n",
    "\n",
    "FILTERED_ANNO_CSV = f\"{SPLIT}/{SPLIT}-filtered-annotations-v2.csv\""
   ]
  },
  {
   "cell_type": "code",
   "execution_count": null,
   "metadata": {},
   "outputs": [],
   "source": [
    "def string_to_int_list(string_list):\n",
    "    return [int(x) for x in string_list]\n",
    "\n",
    "def get_encoded_image(image_path):\n",
    "    with tf.io.gfile.GFile(image_path, 'rb') as fid:\n",
    "        return bytes(fid.read()) # Encoded image bytes\n",
    "\n",
    "def create_label_map(label_map_path, labels):\n",
    "    with open(label_map_path, 'w+') as f:\n",
    "        for index, row in labels.iterrows():\n",
    "            line = f'item {{\\n' \\\n",
    "                            f'id: {index + 1}\\n' \\\n",
    "                            f'name: \"{row.LabelName}\"\\n' \\\n",
    "                            f'display_name: \"{row.ClassName}\"}}\\n'\n",
    "            f.write(line)"
   ]
  },
  {
   "cell_type": "code",
   "execution_count": null,
   "metadata": {},
   "outputs": [],
   "source": [
    "def balance_classes(examples, bboxes):\n",
    "    class_load = bboxes.groupby('LabelName').agg({\"ClassName\":'count', \"ImageID\":list}).reset_index()\n",
    "\n",
    "    target = class_load.ClassName.max()\n",
    "    examples_clone = examples.copy()\n",
    "    to_append = []\n",
    "\n",
    "    for class_id, num_examples, img_ids in class_load.itertuples(index=False):\n",
    "        factor = math.ceil(target / num_examples) - 1\n",
    "        if factor <= 0: continue\n",
    "\n",
    "        to_replicate = examples_clone[examples_clone.ImageID.isin(img_ids)]\n",
    "        to_append += [to_replicate] * factor\n",
    "\n",
    "    balanced = examples.append(to_append, ignore_index=True)\n",
    "    return balanced"
   ]
  },
  {
   "cell_type": "code",
   "execution_count": null,
   "metadata": {},
   "outputs": [],
   "source": [
    "def tf_example_from_example_data_frame(example, label_map):\n",
    "\n",
    "    image_id = f\"{example.ImageID}_{example.Index}\"\n",
    "    image_path = example.ImagePath\n",
    "    class_texts = [x.encode() for x in example.LabelName]\n",
    "    class_labels = [label_map[x] for x in example.LabelName]\n",
    "    \n",
    "    encoded_image = get_encoded_image(image_path)\n",
    "\n",
    "    feature_map = {\n",
    "      TfExampleFields.object_bbox_ymin: dataset_util.float_list_feature(example.YMin),\n",
    "      TfExampleFields.object_bbox_xmin: dataset_util.float_list_feature(example.XMin),\n",
    "      TfExampleFields.object_bbox_ymax: dataset_util.float_list_feature(example.YMax),\n",
    "      TfExampleFields.object_bbox_xmax: dataset_util.float_list_feature(example.XMax),\n",
    "      TfExampleFields.object_class_text: dataset_util.bytes_list_feature(class_texts),\n",
    "      TfExampleFields.object_class_label: dataset_util.int64_list_feature(class_labels),\n",
    "      TfExampleFields.filename: dataset_util.bytes_feature(image_path.encode(\"utf-8\")),\n",
    "      TfExampleFields.source_id: dataset_util.bytes_feature(image_id.encode(\"utf-8\")),\n",
    "      TfExampleFields.image_encoded: dataset_util.bytes_feature(encoded_image),\n",
    "  }\n",
    "\n",
    "    \n",
    "    feature_map[TfExampleFields.object_group_of] = dataset_util.int64_list_feature(string_to_int_list(example.IsGroupOf))\n",
    "    feature_map[TfExampleFields.object_occluded] = dataset_util.int64_list_feature(string_to_int_list(example.IsOccluded))\n",
    "    feature_map[TfExampleFields.object_truncated] = dataset_util.int64_list_feature(string_to_int_list(example.IsTruncated))\n",
    "    feature_map[TfExampleFields.object_depiction] = dataset_util.int64_list_feature(string_to_int_list(example.IsDepiction))\n",
    "\n",
    "    feature_map[TfExampleFields.image_format] = dataset_util.bytes_feature(b'jpg')\n",
    "    feature_map[TfExampleFields.height] = dataset_util.int64_feature(int(480))\n",
    "    feature_map[TfExampleFields.width] = dataset_util.int64_feature(int(640))\n",
    "\n",
    "    return tf.train.Example(features=tf.train.Features(feature=feature_map))"
   ]
  },
  {
   "cell_type": "code",
   "execution_count": null,
   "metadata": {},
   "outputs": [],
   "source": [
    "labels = pd.read_csv(LABELS_CSV)\n",
    "bboxes = pd.read_csv(FILTERED_ANNO_CSV)\n",
    "bboxes = bboxes[bboxes.ImageID.isin([path.split(\"\\\\\")[1].split(\".\")[0] for path in glob(f\"{SPLIT}/*jpg\")])]\n",
    "examples = bboxes.groupby(\"ImageID\").agg({\"LabelName\": list, \"ClassName\":list,\n",
    "                                          \"XMin\": list, \"XMax\": list, \"YMin\": list, \"YMax\": list,\n",
    "                                          \"IsGroupOf\": list, \"IsOccluded\": list,\n",
    "                                          \"IsTruncated\": list, \"IsDepiction\": list}).reset_index()\n",
    "examples[\"ImagePath\"] = examples.ImageID.apply(lambda img_id: os.path.join(IMAGES_FOLDER, f\"{SPLIT}/{img_id}.jpg\"))"
   ]
  },
  {
   "cell_type": "code",
   "execution_count": null,
   "metadata": {},
   "outputs": [],
   "source": [
    "if not os.path.isfile(LABEL_MAP_PATH):\n",
    "    create_label_map(LABEL_MAP_PATH, labels)\n",
    "label_map = label_map_util.get_label_map_dict(LABEL_MAP_PATH)"
   ]
  },
  {
   "cell_type": "code",
   "execution_count": null,
   "metadata": {},
   "outputs": [],
   "source": [
    "examples = balance_classes(examples, bboxes)\n",
    "examples = examples.sample(frac=1, random_state=22).reset_index(drop=True)"
   ]
  },
  {
   "cell_type": "code",
   "execution_count": null,
   "metadata": {},
   "outputs": [],
   "source": [
    "with contextlib2.ExitStack() as tf_record_close_stack:\n",
    "    output_tfrecords = tf_record_creation_util.open_sharded_output_tfrecords(tf_record_close_stack,\n",
    "                                                                             RECORDS_FILEPATH, NUM_SHARDS)\n",
    "\n",
    "    for example in examples.itertuples():\n",
    "        tf_example = tf_example_from_example_data_frame(example, label_map)\n",
    "        output_shard_index = example.Index % NUM_SHARDS\n",
    "        output_tfrecords[output_shard_index].write(tf_example.SerializeToString())"
   ]
  }
 ],
 "metadata": {
  "kernelspec": {
   "display_name": "Python [conda env:masters-cpu]",
   "language": "python",
   "name": "conda-env-masters-cpu-py"
  },
  "language_info": {
   "codemirror_mode": {
    "name": "ipython",
    "version": 3
   },
   "file_extension": ".py",
   "mimetype": "text/x-python",
   "name": "python",
   "nbconvert_exporter": "python",
   "pygments_lexer": "ipython3",
   "version": "3.6.10"
  }
 },
 "nbformat": 4,
 "nbformat_minor": 2
}
